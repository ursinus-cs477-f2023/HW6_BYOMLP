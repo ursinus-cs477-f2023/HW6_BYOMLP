{
 "cells": [
  {
   "cell_type": "markdown",
   "id": "d58f1939",
   "metadata": {},
   "source": [
    "# CS 477 HW 6: Gradient Descent on MLPs\n",
    "## Chris Tralie\n",
    "\n",
    "This is a simple test to make sure our neural network engine is able to separate the inside of a circle from the outside, which would not work with logistic regression over the two dimensions"
   ]
  },
  {
   "cell_type": "code",
   "execution_count": null,
   "id": "8410cd7a",
   "metadata": {},
   "outputs": [],
   "source": [
    "%load_ext autoreload\n",
    "%autoreload 2\n",
    "import numpy as np\n",
    "import matplotlib.pyplot as plt\n",
    "import matplotlib.animation as animation\n",
    "import IPython.display as ipd\n",
    "from mlp import *\n",
    "from layers import *\n",
    "from losses import *"
   ]
  },
  {
   "cell_type": "markdown",
   "id": "a360fb89",
   "metadata": {},
   "source": [
    "First, let's generate the data"
   ]
  },
  {
   "cell_type": "code",
   "execution_count": null,
   "id": "435b027e",
   "metadata": {},
   "outputs": [],
   "source": [
    "def get_disc_points(N):\n",
    "    X = np.random.randn(N, 2)\n",
    "    d = np.sqrt(np.sum(X**2, axis=1))\n",
    "    ys = np.array(d < 1, dtype=float)\n",
    "    X[ys == 0, :] *= 1.1 # Put a small gap between inner and outer points\n",
    "    return X, ys\n",
    "\n",
    "np.random.seed(0)\n",
    "X, ys = get_disc_points(1000)\n",
    "plt.scatter(X[ys==0, 0], X[ys==0, 1])\n",
    "plt.scatter(X[ys==1, 0], X[ys==1, 1])\n",
    "plt.axis(\"equal\")\n",
    "plt.title(\"Intial Disc Data\")"
   ]
  },
  {
   "cell_type": "markdown",
   "id": "2e0dc605",
   "metadata": {},
   "source": [
    "Now let's setup a neural network and train it!  We'll put 100 neurons in the first hidden layer, followed by 2 neurons, followed by a single neuron with the logistic activation.  Since the last hidden layer has 2 neurons, we can the coordinates on the data mapped through it to see how well it's being separated"
   ]
  },
  {
   "cell_type": "code",
   "execution_count": null,
   "id": "ed07754a",
   "metadata": {},
   "outputs": [],
   "source": [
    "plot_animation=True\n",
    "np.random.seed(0)\n",
    "\n",
    "nn = MLP(2, logistic_est_loss_deriv) # Input is in 2 dimensions, and we want to use logistic loss\n",
    "nn.add_layer(100,  leaky_relu, leaky_relu_deriv, name=\"layer1\") # First layer is 100 dimensions with a leaky ReLU\n",
    "nn.add_layer(2, leaky_relu, leaky_relu_deriv, name=\"layer2\") # Second layer is 2 dimensions with a leaky ReLU\n",
    "nn.add_layer(1, logistic, None, name=\"lastlayer\") # Last layer is the logistic function.  Its derivative is handled separately\n",
    "\n",
    "n_epochs = 100\n",
    "alpha = 0.001\n",
    "losses = []\n",
    "\n",
    "fig = plt.figure(figsize=(12, 6))\n",
    "frames = []\n",
    "for epoch in range(n_epochs):\n",
    "    loss = 0\n",
    "    num_correct = 0\n",
    "    X1 = []\n",
    "    X2 = []\n",
    "    for k in range(X.shape[0]):\n",
    "        y_est = nn.forward(X[k, :])\n",
    "        num_correct += (np.round(y_est) == ys[k])\n",
    "        loss += logistic_est_loss(y_est, ys[k])\n",
    "        xy = nn.forward(X[k, :], end=\"layer2\")\n",
    "        if ys[k] == 0:\n",
    "            X1.append(xy)\n",
    "        else:\n",
    "            X2.append(xy)\n",
    "    print(\"Epoch {} Loss {} Accuracy {}\".format(epoch, loss, num_correct[0]/X.shape[0]))\n",
    "    losses.append(loss)\n",
    "    X1 = np.array(X1)\n",
    "    X2 = np.array(X2)\n",
    "\n",
    "    # Plot Result\n",
    "    # Get the 2D linear separator from the weights/bias in the last layer\n",
    "    a, b = nn.layers[-1][\"W\"].flatten() \n",
    "    c = nn.layers[-1][\"b\"][0]\n",
    "    plt.subplot(121)\n",
    "    plot = [plt.scatter(X1[:, 0], X1[:, 1], c='C0')]\n",
    "    plot += [plt.scatter(X2[:, 0], X2[:, 1], c='C1')]\n",
    "    plt.gca().set_facecolor(\"white\")\n",
    "    plot.append(plt.text(0.5, 1.01, \"Epoch {} Accuracy {:.3f}\".format(epoch, num_correct[0]/X.shape[0]),\n",
    "                        horizontalalignment='center', verticalalignment='bottom',\n",
    "                        transform=plt.gca().transAxes, size='xx-large'))\n",
    "    \n",
    "    plt.subplot(122)\n",
    "    plot += plt.plot(losses, c='C0')\n",
    "    plt.xlabel(\"Epoch\")\n",
    "    plt.ylabel(\"Loss\")\n",
    "    plt.xlim([0, n_epochs])\n",
    "    plt.ylim([0, np.max(losses)])\n",
    "    plot.append(plt.text(0.5, 1.01, \"Loss {:.3f}\".format(loss[0]),\n",
    "                        horizontalalignment='center', verticalalignment='bottom',\n",
    "                        transform=plt.gca().transAxes, size='xx-large'))\n",
    "    plt.gca().set_facecolor(\"white\")\n",
    "    frames.append(plot)\n",
    "    \n",
    "    # Stochastic gradient descent\n",
    "    for k in np.random.permutation(X.shape[0]):\n",
    "        nn.backward(X[k, :], ys[k])\n",
    "        nn.step(alpha)\n",
    "        nn.zero_grad()\n",
    "\n",
    "ani = animation.ArtistAnimation(fig, frames, interval=200, blit=True, repeat_delay=1000)\n",
    "ani.save(\"result.gif\", dpi=200)\n"
   ]
  },
  {
   "cell_type": "code",
   "execution_count": null,
   "id": "9526de1a",
   "metadata": {},
   "outputs": [],
   "source": []
  }
 ],
 "metadata": {
  "kernelspec": {
   "display_name": "Python 3 (ipykernel)",
   "language": "python",
   "name": "python3"
  },
  "language_info": {
   "codemirror_mode": {
    "name": "ipython",
    "version": 3
   },
   "file_extension": ".py",
   "mimetype": "text/x-python",
   "name": "python",
   "nbconvert_exporter": "python",
   "pygments_lexer": "ipython3",
   "version": "3.11.3"
  }
 },
 "nbformat": 4,
 "nbformat_minor": 5
}
